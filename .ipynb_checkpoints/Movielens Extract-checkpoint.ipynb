{
 "cells": [
  {
   "cell_type": "code",
   "execution_count": null,
   "metadata": {},
   "outputs": [],
   "source": []
  }
 ],
 "metadata": {
  "kernelspec": {
   "display_name": "Python 3.7.13 ('PythonData')",
   "language": "python",
   "name": "python3"
  },
  "language_info": {
   "name": "python",
   "version": "3.7.13"
  },
  "vscode": {
   "interpreter": {
    "hash": "dcdab4a59f88e385d70fe6bf73b2a792307de5b20b1168cbe61b4db88bd3d81f"
   }
  }
 },
 "nbformat": 4,
 "nbformat_minor": 5
}
